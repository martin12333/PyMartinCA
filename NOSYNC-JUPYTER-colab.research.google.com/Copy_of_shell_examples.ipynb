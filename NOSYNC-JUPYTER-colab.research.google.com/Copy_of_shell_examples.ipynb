{
  "nbformat": 4,
  "nbformat_minor": 0,
  "metadata": {
    "colab": {
      "name": "Copy of shell examples.ipynb",
      "provenance": [],
      "collapsed_sections": []
    },
    "kernelspec": {
      "name": "python3",
      "display_name": "Python 3"
    }
  },
  "cells": [
    {
      "cell_type": "code",
      "metadata": {
        "id": "e8dh_0kbvNeB",
        "colab_type": "code",
        "colab": {
          "base_uri": "https://localhost:8080/",
          "height": 175
        },
        "outputId": "fa4864ef-c8f0-48e8-ad98-2d38ee816516"
      },
      "source": [
        "!echo \"This is a single shell command\"\n",
        "#!ls -la sample_data/\n",
        "%cd drive/My\\ Drive/Colab\\ Notebooks/mount-drive/ships,07t\n",
        "#!ls -la  drive/My\\ Drive/Colab\\ Notebooks/mount-drive/ships,07t\n",
        "!ls -la\n",
        "print ('Mixed with some Python')"
      ],
      "execution_count": 8,
      "outputs": [
        {
          "output_type": "stream",
          "text": [
            "This is a single shell command\n",
            "/content/drive/My Drive/Colab Notebooks/mount-drive/ships,07t\n",
            "total 532\n",
            "-rw------- 1 root root 262098 Jul 28 18:35 ship4.txt\n",
            "-rw------- 1 root root 114639 Jul 26 12:57 ships2.txt\n",
            "-rw------- 1 root root 106773 Jul 26 13:14 ships3.txt\n",
            "-rw------- 1 root root  58714 Jul 26 11:41 ships.txt\n",
            "-rw------- 1 root root   1187 Jul 29 14:58 test.txt\n",
            "Mixed with some Python\n"
          ],
          "name": "stdout"
        }
      ]
    },
    {
      "cell_type": "code",
      "metadata": {
        "id": "iP80dljGGyDK",
        "colab_type": "code",
        "colab": {
          "base_uri": "https://localhost:8080/",
          "height": 34
        },
        "outputId": "e23059dc-114f-40e0-eded-bd7b704d2dbd"
      },
      "source": [
        "%cd /content/"
      ],
      "execution_count": 10,
      "outputs": [
        {
          "output_type": "stream",
          "text": [
            "/content\n"
          ],
          "name": "stdout"
        }
      ]
    },
    {
      "cell_type": "code",
      "metadata": {
        "id": "i7cDqnvavT9i",
        "colab_type": "code",
        "colab": {
          "base_uri": "https://localhost:8080/",
          "height": 51
        },
        "outputId": "9fff5c82-ec8d-45e6-9081-2f24ae46dc46"
      },
      "source": [
        "%%shell\n",
        "\n",
        "ls -la  \n",
        "echo \"This is an entire cell interpreted as a shell script\"\n",
        "echo \"You don't need to prepend each line with the '!' character\"\n",
        "ls -la  "
      ],
      "execution_count": null,
      "outputs": [
        {
          "output_type": "stream",
          "text": [
            "This is an entire cell interpreted as a shell script\n",
            "You don't need to prepend each line with the '!' character\n"
          ],
          "name": "stdout"
        },
        {
          "output_type": "execute_result",
          "data": {
            "text/plain": [
              ""
            ]
          },
          "metadata": {
            "tags": []
          },
          "execution_count": 2
        }
      ]
    },
    {
      "cell_type": "code",
      "metadata": {
        "id": "deXRCSuVD83u",
        "colab_type": "code",
        "colab": {
          "base_uri": "https://localhost:8080/",
          "height": 125
        },
        "outputId": "8d36a5d3-66a4-45f9-aa43-cd3764a687e4"
      },
      "source": [
        "from google.colab import drive\n",
        "drive.mount('/content/drive')"
      ],
      "execution_count": 4,
      "outputs": [
        {
          "output_type": "stream",
          "text": [
            "Go to this URL in a browser: https://accounts.google.com/o/oauth2/auth?client_id=947318989803-6bn6qk8qdgf4n4g3pfee6491hc0brc4i.apps.googleusercontent.com&redirect_uri=urn%3aietf%3awg%3aoauth%3a2.0%3aoob&response_type=code&scope=email%20https%3a%2f%2fwww.googleapis.com%2fauth%2fdocs.test%20https%3a%2f%2fwww.googleapis.com%2fauth%2fdrive%20https%3a%2f%2fwww.googleapis.com%2fauth%2fdrive.photos.readonly%20https%3a%2f%2fwww.googleapis.com%2fauth%2fpeopleapi.readonly\n",
            "\n",
            "Enter your authorization code:\n",
            "··········\n",
            "Mounted at /content/drive\n"
          ],
          "name": "stdout"
        }
      ]
    }
  ]
}