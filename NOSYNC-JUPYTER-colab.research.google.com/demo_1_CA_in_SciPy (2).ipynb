{
  "nbformat": 4,
  "nbformat_minor": 0,
  "metadata": {
    "colab": {
      "name": "demo-1-CA-in-SciPy.ipynb",
      "provenance": []
    },
    "kernelspec": {
      "name": "python3",
      "display_name": "Python 3"
    }
  },
  "cells": [
    {
      "cell_type": "code",
      "metadata": {
        "id": "qdTqtX4Y1ubL",
        "colab_type": "code",
        "colab": {}
      },
      "source": [
        "import numpy as np\n",
        "\n",
        "#parameters are described at PARAMETERS.txt at the END of this ipynb\n",
        "# CGOL\n",
        "r=1; bmin=3; bmax=3; smin=3; smax=4\n"
      ],
      "execution_count": 0,
      "outputs": []
    },
    {
      "cell_type": "markdown",
      "metadata": {
        "id": "HOFqc3KuNgK5",
        "colab_type": "text"
      },
      "source": [
        ""
      ]
    },
    {
      "cell_type": "code",
      "metadata": {
        "id": "vF_0N4OR2TUr",
        "colab_type": "code",
        "outputId": "99f14297-954c-4a6e-b819-f9a23f981881",
        "colab": {
          "base_uri": "https://localhost:8080/",
          "height": 70
        }
      },
      "source": [
        "import scipy.ndimage \n",
        "\n",
        "\n",
        "kernel = [[1, 1, 1],[ 1 ,1, 1],[ 1, 1, 1]]  # define neighbors\n",
        "\n",
        "kr=np.array(kernel)\n",
        "\n",
        "kr"
      ],
      "execution_count": 0,
      "outputs": [
        {
          "output_type": "execute_result",
          "data": {
            "text/plain": [
              "array([[1, 1, 1],\n",
              "       [1, 1, 1],\n",
              "       [1, 1, 1]])"
            ]
          },
          "metadata": {
            "tags": []
          },
          "execution_count": 2
        }
      ]
    },
    {
      "cell_type": "code",
      "metadata": {
        "id": "HglT1JZ12YDI",
        "colab_type": "code",
        "outputId": "f9ad4563-efa0-4bfb-ffe4-619af2521c8e",
        "colab": {
          "base_uri": "https://localhost:8080/",
          "height": 105
        }
      },
      "source": [
        "\n",
        "OR = np.logical_or\n",
        "AND = np.logical_and\n",
        "\n",
        "\n",
        "world=[\n",
        "[0,0,0,0],\n",
        "[0,1,0,0],\n",
        "[0,1,0,0],\n",
        "[0,1,0,0],\n",
        "[0,0,0,0],\n",
        "] # a blinker\n",
        "\n",
        "\n",
        "a=np.array(world)\n",
        "\n",
        "n=scipy.ndimage.convolve(a,kr)\n",
        "\n",
        "n"
      ],
      "execution_count": 0,
      "outputs": [
        {
          "output_type": "execute_result",
          "data": {
            "text/plain": [
              "array([[1, 1, 1, 0],\n",
              "       [2, 2, 2, 0],\n",
              "       [3, 3, 3, 0],\n",
              "       [2, 2, 2, 0],\n",
              "       [1, 1, 1, 0]])"
            ]
          },
          "metadata": {
            "tags": []
          },
          "execution_count": 3
        }
      ]
    },
    {
      "cell_type": "code",
      "metadata": {
        "id": "-eQHf9XF2jzO",
        "colab_type": "code",
        "outputId": "7f2d4539-2073-43d7-86f6-e997e07593b8",
        "colab": {
          "base_uri": "https://localhost:8080/",
          "height": 105
        }
      },
      "source": [
        "birth = AND(  n>=bmin,  AND( n<=bmax, np.logical_not(a) )  )\n",
        "\n",
        "birth"
      ],
      "execution_count": 0,
      "outputs": [
        {
          "output_type": "execute_result",
          "data": {
            "text/plain": [
              "array([[False, False, False, False],\n",
              "       [False, False, False, False],\n",
              "       [ True, False,  True, False],\n",
              "       [False, False, False, False],\n",
              "       [False, False, False, False]])"
            ]
          },
          "metadata": {
            "tags": []
          },
          "execution_count": 4
        }
      ]
    },
    {
      "cell_type": "code",
      "metadata": {
        "id": "t-sxNjue2n3y",
        "colab_type": "code",
        "outputId": "180e3b4c-bf2e-4cd0-9bbb-39c3fe74cb9e",
        "colab": {
          "base_uri": "https://localhost:8080/",
          "height": 105
        }
      },
      "source": [
        "survi = AND(  n>=smin,  AND( n<=smax, a )  )\n",
        "\n",
        "survi"
      ],
      "execution_count": 0,
      "outputs": [
        {
          "output_type": "execute_result",
          "data": {
            "text/plain": [
              "array([[False, False, False, False],\n",
              "       [False, False, False, False],\n",
              "       [False,  True, False, False],\n",
              "       [False, False, False, False],\n",
              "       [False, False, False, False]])"
            ]
          },
          "metadata": {
            "tags": []
          },
          "execution_count": 5
        }
      ]
    },
    {
      "cell_type": "code",
      "metadata": {
        "id": "hPeTe3Q02rfJ",
        "colab_type": "code",
        "outputId": "6fc95865-8c03-4f4c-ca7c-35f2351a8ccf",
        "colab": {
          "base_uri": "https://localhost:8080/",
          "height": 105
        }
      },
      "source": [
        "a =  OR( birth , survi )  \n",
        "\n",
        "a"
      ],
      "execution_count": 0,
      "outputs": [
        {
          "output_type": "execute_result",
          "data": {
            "text/plain": [
              "array([[False, False, False, False],\n",
              "       [False, False, False, False],\n",
              "       [ True,  True,  True, False],\n",
              "       [False, False, False, False],\n",
              "       [False, False, False, False]])"
            ]
          },
          "metadata": {
            "tags": []
          },
          "execution_count": 6
        }
      ]
    },
    {
      "cell_type": "markdown",
      "metadata": {
        "id": "0k2ZAdVFNosI",
        "colab_type": "text"
      },
      "source": [
        "# # PARAMETERS.txt\n",
        "# \n",
        "# in most scripts in PyMartinCA\n",
        "# \n",
        "# bmin is constant\n",
        "# \n",
        "# bmax varies from xlo to xhi\n",
        "# \n",
        "# smin is constant\n",
        "# \n",
        "# smax varies from ylo to yhi\n",
        "# \n",
        "# \n",
        "# #bfade, q, qqq are purely visual ... not related to Cc of Golly\n",
        "# \n",
        "# \n",
        "# \n",
        "# #=============================\n",
        "# #a standard rule notation\n",
        "# \n",
        "# #https://www.conwaylife.com/wiki/Larger_than_Life\n",
        "# \n",
        "# #Rr,Cc,M1,Ssmin..smax,Bbmin..bmax,Nn\n",
        "# \n",
        "# #Rr specifies the range (r is from 1 to 500 in Golly and LifeViewer; 1 to 10 in MCell).\n",
        "# \n",
        "# diam = 2*r + 1\n",
        "# \n",
        "# #Cc specifies the number of states (c is from 0 to 255 in Golly, LifeViewer and MCell[note 1])\n",
        "# \n",
        "# #Mm specifies if the middle cell is included in the neighborhood count (m is 0 or 1).\n",
        "# \n",
        "# PyMartinCA uses M1 or weighted\n",
        "# M1 internally even for HROT \n",
        "# \n",
        "# #Ssmin..smax specifies the count limits for a state 1 cell to survive.\n",
        "# \n",
        "# #Bbmin..bmax specifies the count limits for a dead cell to become a birth.\n",
        "# \n",
        "# #Nn specifies the extended neighborhood type (n is M for Moore or N for von Neumann. Golly and LifeViewer also support C for Circular neighborhood)\n",
        "# \n",
        "# PyMartinCA uses NM or weighted\n",
        "# \n",
        "\n"
      ]
    },
    {
      "cell_type": "markdown",
      "metadata": {
        "id": "r0oEkje1NiSE",
        "colab_type": "text"
      },
      "source": [
        "\n",
        "# ###===================\n",
        "# #PyMartinCA scripts originally evolved from\n",
        "# #http://nbviewer.ipython.org/github/martin12333/teaching-simso/blob/master/52-largerthanlife.ipynb\n",
        "# #https://github.com/thearn/game-of-life/blob/master/conway.py\n",
        "#"
      ]
    }
  ]
}