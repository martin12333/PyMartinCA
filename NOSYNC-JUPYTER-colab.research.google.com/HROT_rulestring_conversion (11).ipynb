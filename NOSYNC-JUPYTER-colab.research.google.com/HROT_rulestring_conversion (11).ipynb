{
  "nbformat": 4,
  "nbformat_minor": 0,
  "metadata": {
    "colab": {
      "name": "HROT-rulestring-conversion.ipynb",
      "provenance": []
    },
    "kernelspec": {
      "name": "python3",
      "display_name": "Python 3"
    }
  },
  "cells": [
    {
      "cell_type": "code",
      "metadata": {
        "id": "QwhcKEEFGIr3",
        "colab_type": "code",
        "colab": {
          "base_uri": "https://localhost:8080/",
          "height": 36
        },
        "outputId": "6414d23a-9148-4e4d-b556-89745ef36626"
      },
      "source": [
        "\n",
        "# HROT CA ... converting notations ... ranges to table to hexstring\n",
        "\n",
        "# (in Jupyter notebooks, you can type `shift+enter` (or the :arrow_forward: button on the left) to evaluate a chunk and move to the next. )\n",
        "\n",
        "\n",
        "import numpy as np\n",
        "\n",
        "# M0 ... HROT\n",
        "\n",
        "\n",
        "r=2\n",
        "d=2*r+1\n",
        "\n",
        "# example 1 : birth or survival 9-18 , M0\n",
        "# (s10t19 M1)\n",
        "# 9-18 to python ranges\n",
        "list(range(9,19))\n",
        "\n",
        "#print(list(range(1,25)))\n",
        "','.join([str(i) for i in list(range(1,25))])\n"
      ],
      "execution_count": 35,
      "outputs": [
        {
          "output_type": "execute_result",
          "data": {
            "application/vnd.google.colaboratory.intrinsic+json": {
              "type": "string"
            },
            "text/plain": [
              "'1,2,3,4,5,6,7,8,9,10,11,12,13,14,15,16,17,18,19,20,21,22,23,24'"
            ]
          },
          "metadata": {
            "tags": []
          },
          "execution_count": 35
        }
      ]
    },
    {
      "cell_type": "code",
      "metadata": {
        "id": "IlGEt-kSGznL",
        "colab_type": "code",
        "colab": {
          "base_uri": "https://localhost:8080/",
          "height": 193
        },
        "outputId": "9a7f959b-36b6-4d78-d751-0b50fbf93c27"
      },
      "source": [
        "# I am not editing now\n",
        "lifeviewer_rulestr_part_list='''4\n",
        "1,9-18\n",
        "9-18\n",
        "4\n",
        "12,14,17\n",
        "9,12,14,17,19,20\n",
        "6-9,12,14,17,19,20,24\n",
        "7,10,16,17,18,19,20,21\n",
        "6-9,12,14-15,17-21,23-24\n",
        "7,11-12,14-17,19-24'''\n",
        "\n",
        "\n",
        "\n",
        "for lifeviewer_rulestr_part in lifeviewer_rulestr_part_list.splitlines():\n",
        "\n",
        "\n",
        "\n",
        "  atable1=np.zeros( d*d , dtype=int)\n",
        "\n",
        "  #atable1[9:19]=1\n",
        "\n",
        "  for si in lifeviewer_rulestr_part.split(','):\n",
        "    if '-' in si:\n",
        "      si2=si.split('-')\n",
        "      lo1=int(si2[0])\n",
        "      hi1=int(si2[1])\n",
        "    else:\n",
        "      lo1=int(si)\n",
        "      hi1=lo1\n",
        "\n",
        "    atable1[lo1:hi1+1]=1\n",
        "\n",
        "  #('[0 0 0 0 0 0 0 0 0 1 1 1 1 1 1 1 1 1 1 0 0 0 0 0 0]')\n",
        "  #str(list(atable1))\n",
        "  str(atable1)\n",
        "\n",
        "\n",
        "  x=0\n",
        "  for i in range(d*d):\n",
        "      if atable1[i] != 0:\n",
        "          x=x|(1<<i)\n",
        "          \n",
        "  #523776\n",
        "  #(x)\n",
        "\n",
        "  uintx2=x\n",
        "  uintx=x>>1\n",
        "\n",
        "  ###hexstring1=format(uintx, '06x')\n",
        "  hexstring1=format(uintx, '0'+    str(r*(r+1))        +'x')\n",
        "\n",
        "  #('03ff00')\n",
        "  print(hexstring1)\n"
      ],
      "execution_count": 37,
      "outputs": [
        {
          "output_type": "stream",
          "text": [
            "000008\n",
            "03ff01\n",
            "03ff00\n",
            "000008\n",
            "012800\n",
            "0d2900\n",
            "8d29e0\n",
            "1f8240\n",
            "df69e0\n",
            "fdec40\n"
          ],
          "name": "stdout"
        }
      ]
    },
    {
      "cell_type": "markdown",
      "metadata": {
        "id": "4KvuVKJqGvl2",
        "colab_type": "text"
      },
      "source": [
        ""
      ]
    }
  ]
}