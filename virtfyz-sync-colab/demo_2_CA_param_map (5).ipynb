{
  "nbformat": 4,
  "nbformat_minor": 0,
  "metadata": {
    "colab": {
      "name": "demo-2-CA-param-map.ipynb",
      "provenance": []
    },
    "kernelspec": {
      "name": "python3",
      "display_name": "Python 3"
    }
  },
  "cells": [
    {
      "cell_type": "code",
      "metadata": {
        "id": "qdTqtX4Y1ubL",
        "colab_type": "code",
        "colab": {
          "base_uri": "https://localhost:8080/",
          "height": 34
        },
        "outputId": "8f948e04-162d-4c86-aa45-c5c72953e47d"
      },
      "source": [
        "import numpy as np\n",
        "\n",
        "#parameters are described at PARAMETERS.txt\n",
        "# CGOL and B23/S23\n",
        "r=1;        bmax=3; smin=3; smax=4\n",
        "\n",
        "xlo=2; dx52=2;  ylo=3; dy52=1\n",
        "\n",
        "xhi=xlo+dx52-0.01; yhi=ylo + dy52-0.01\n",
        "xlo,xhi"
      ],
      "execution_count": 1,
      "outputs": [
        {
          "output_type": "execute_result",
          "data": {
            "text/plain": [
              "(2, 3.99)"
            ]
          },
          "metadata": {
            "tags": []
          },
          "execution_count": 1
        }
      ]
    },
    {
      "cell_type": "code",
      "metadata": {
        "id": "6PvXLSaW_cFF",
        "colab_type": "code",
        "colab": {}
      },
      "source": [
        "\n",
        "w=8\n",
        "h=5\n"
      ],
      "execution_count": 0,
      "outputs": []
    },
    {
      "cell_type": "code",
      "metadata": {
        "id": "tF6g2Pi-_0TX",
        "colab_type": "code",
        "colab": {
          "base_uri": "https://localhost:8080/",
          "height": 34
        },
        "outputId": "4c073f4c-8d58-431e-9e2b-917104cdd23a"
      },
      "source": [
        "###x11 = floor(linspace(xlo, xhi + 0.999, w))\n",
        "###y11 = floor(linspace(yhi + 0.999 , ylo, h))\n",
        "x11 = np.floor(np.linspace(xlo, xhi , w))\n",
        "y11 = np.floor(np.linspace(yhi  , ylo, h))\n",
        "x11,y11"
      ],
      "execution_count": 10,
      "outputs": [
        {
          "output_type": "execute_result",
          "data": {
            "text/plain": [
              "(array([2., 2., 2., 2., 3., 3., 3., 3.]), array([3., 3., 3., 3., 3.]))"
            ]
          },
          "metadata": {
            "tags": []
          },
          "execution_count": 10
        }
      ]
    },
    {
      "cell_type": "code",
      "metadata": {
        "id": "Cjj6MEZmBSGH",
        "colab_type": "code",
        "colab": {
          "base_uri": "https://localhost:8080/",
          "height": 105
        },
        "outputId": "24973dbc-f88e-4f25-8a07-ce66abd246b1"
      },
      "source": [
        "xx, yy = np.meshgrid(x11, y11)\n",
        "xx#,yy"
      ],
      "execution_count": 11,
      "outputs": [
        {
          "output_type": "execute_result",
          "data": {
            "text/plain": [
              "array([[2., 2., 2., 2., 3., 3., 3., 3.],\n",
              "       [2., 2., 2., 2., 3., 3., 3., 3.],\n",
              "       [2., 2., 2., 2., 3., 3., 3., 3.],\n",
              "       [2., 2., 2., 2., 3., 3., 3., 3.],\n",
              "       [2., 2., 2., 2., 3., 3., 3., 3.]])"
            ]
          },
          "metadata": {
            "tags": []
          },
          "execution_count": 11
        }
      ]
    },
    {
      "cell_type": "code",
      "metadata": {
        "id": "nPDFz6KaBps0",
        "colab_type": "code",
        "colab": {
          "base_uri": "https://localhost:8080/",
          "height": 105
        },
        "outputId": "c3349ac9-4ccb-45a7-9d02-e94e978e8116"
      },
      "source": [
        "bmin=xx\n",
        "\n",
        "bmin,bmax,smin,smax"
      ],
      "execution_count": 12,
      "outputs": [
        {
          "output_type": "execute_result",
          "data": {
            "text/plain": [
              "(array([[2., 2., 2., 2., 3., 3., 3., 3.],\n",
              "        [2., 2., 2., 2., 3., 3., 3., 3.],\n",
              "        [2., 2., 2., 2., 3., 3., 3., 3.],\n",
              "        [2., 2., 2., 2., 3., 3., 3., 3.],\n",
              "        [2., 2., 2., 2., 3., 3., 3., 3.]]), 3, 3, 4)"
            ]
          },
          "metadata": {
            "tags": []
          },
          "execution_count": 12
        }
      ]
    },
    {
      "cell_type": "code",
      "metadata": {
        "id": "vF_0N4OR2TUr",
        "colab_type": "code",
        "outputId": "3bbeb055-4a06-4fab-b0b5-ca0741a808c5",
        "colab": {
          "base_uri": "https://localhost:8080/",
          "height": 70
        }
      },
      "source": [
        "import scipy.ndimage \n",
        "\n",
        "\n",
        "kernel = [[1, 1, 1],[ 1 ,1, 1],[ 1, 1, 1]]  # define neighbors\n",
        "\n",
        "kr=np.array(kernel)\n",
        "\n",
        "kr"
      ],
      "execution_count": 13,
      "outputs": [
        {
          "output_type": "execute_result",
          "data": {
            "text/plain": [
              "array([[1, 1, 1],\n",
              "       [1, 1, 1],\n",
              "       [1, 1, 1]])"
            ]
          },
          "metadata": {
            "tags": []
          },
          "execution_count": 13
        }
      ]
    },
    {
      "cell_type": "code",
      "metadata": {
        "id": "LIJqRtm0_bSO",
        "colab_type": "code",
        "colab": {}
      },
      "source": [
        ""
      ],
      "execution_count": 0,
      "outputs": []
    },
    {
      "cell_type": "code",
      "metadata": {
        "id": "HglT1JZ12YDI",
        "colab_type": "code",
        "outputId": "827ed096-d8ee-4ef6-8d7a-04f6d5ddf2b3",
        "colab": {
          "base_uri": "https://localhost:8080/",
          "height": 105
        }
      },
      "source": [
        "\n",
        "OR = np.logical_or\n",
        "AND = np.logical_and\n",
        "\n",
        "\n",
        "world=[\n",
        "[0,0,0,0],\n",
        "[0,1,0,0],\n",
        "[0,1,0,0],\n",
        "[0,1,0,0],\n",
        "[0,0,0,0],\n",
        "] # a blinker\n",
        "\n",
        "\n",
        "a=np.array(world)\n",
        "a=np.hstack( (a,a) )\n",
        "a"
      ],
      "execution_count": 16,
      "outputs": [
        {
          "output_type": "execute_result",
          "data": {
            "text/plain": [
              "array([[0, 0, 0, 0, 0, 0, 0, 0],\n",
              "       [0, 1, 0, 0, 0, 1, 0, 0],\n",
              "       [0, 1, 0, 0, 0, 1, 0, 0],\n",
              "       [0, 1, 0, 0, 0, 1, 0, 0],\n",
              "       [0, 0, 0, 0, 0, 0, 0, 0]])"
            ]
          },
          "metadata": {
            "tags": []
          },
          "execution_count": 16
        }
      ]
    },
    {
      "cell_type": "code",
      "metadata": {
        "id": "hfgbReCKCR_q",
        "colab_type": "code",
        "colab": {
          "base_uri": "https://localhost:8080/",
          "height": 105
        },
        "outputId": "9099eafe-ef76-4821-c38a-7b931937748d"
      },
      "source": [
        "\n",
        "n=scipy.ndimage.convolve(a,kr)\n",
        "\n",
        "n"
      ],
      "execution_count": 17,
      "outputs": [
        {
          "output_type": "execute_result",
          "data": {
            "text/plain": [
              "array([[1, 1, 1, 0, 1, 1, 1, 0],\n",
              "       [2, 2, 2, 0, 2, 2, 2, 0],\n",
              "       [3, 3, 3, 0, 3, 3, 3, 0],\n",
              "       [2, 2, 2, 0, 2, 2, 2, 0],\n",
              "       [1, 1, 1, 0, 1, 1, 1, 0]])"
            ]
          },
          "metadata": {
            "tags": []
          },
          "execution_count": 17
        }
      ]
    },
    {
      "cell_type": "code",
      "metadata": {
        "id": "3kYx7KL8CzkY",
        "colab_type": "code",
        "colab": {
          "base_uri": "https://localhost:8080/",
          "height": 175
        },
        "outputId": "5b49c570-d0aa-49ba-c12f-fd15f1a54a94"
      },
      "source": [
        "bmin,0, 0+(n>=bmin)"
      ],
      "execution_count": 20,
      "outputs": [
        {
          "output_type": "execute_result",
          "data": {
            "text/plain": [
              "(array([[2., 2., 2., 2., 3., 3., 3., 3.],\n",
              "        [2., 2., 2., 2., 3., 3., 3., 3.],\n",
              "        [2., 2., 2., 2., 3., 3., 3., 3.],\n",
              "        [2., 2., 2., 2., 3., 3., 3., 3.],\n",
              "        [2., 2., 2., 2., 3., 3., 3., 3.]]), 0, array([[0, 0, 0, 0, 0, 0, 0, 0],\n",
              "        [1, 1, 1, 0, 0, 0, 0, 0],\n",
              "        [1, 1, 1, 0, 1, 1, 1, 0],\n",
              "        [1, 1, 1, 0, 0, 0, 0, 0],\n",
              "        [0, 0, 0, 0, 0, 0, 0, 0]]))"
            ]
          },
          "metadata": {
            "tags": []
          },
          "execution_count": 20
        }
      ]
    },
    {
      "cell_type": "code",
      "metadata": {
        "id": "-eQHf9XF2jzO",
        "colab_type": "code",
        "outputId": "711679bd-4834-4a45-8bc2-523c7cec550d",
        "colab": {
          "base_uri": "https://localhost:8080/",
          "height": 105
        }
      },
      "source": [
        "birth = AND(  n>=bmin,  AND( n<=bmax, np.logical_not(a) )  )\n",
        "\n",
        "0+birth"
      ],
      "execution_count": 24,
      "outputs": [
        {
          "output_type": "execute_result",
          "data": {
            "text/plain": [
              "array([[0, 0, 0, 0, 0, 0, 0, 0],\n",
              "       [1, 0, 1, 0, 0, 0, 0, 0],\n",
              "       [1, 0, 1, 0, 1, 0, 1, 0],\n",
              "       [1, 0, 1, 0, 0, 0, 0, 0],\n",
              "       [0, 0, 0, 0, 0, 0, 0, 0]])"
            ]
          },
          "metadata": {
            "tags": []
          },
          "execution_count": 24
        }
      ]
    },
    {
      "cell_type": "code",
      "metadata": {
        "id": "t-sxNjue2n3y",
        "colab_type": "code",
        "outputId": "7bc382c2-fda1-48c0-afdf-6d522b210116",
        "colab": {
          "base_uri": "https://localhost:8080/",
          "height": 105
        }
      },
      "source": [
        "survi = AND(  n>=smin,  AND( n<=smax, a )  )\n",
        "\n",
        "0+survi"
      ],
      "execution_count": 23,
      "outputs": [
        {
          "output_type": "execute_result",
          "data": {
            "text/plain": [
              "array([[0, 0, 0, 0, 0, 0, 0, 0],\n",
              "       [0, 0, 0, 0, 0, 0, 0, 0],\n",
              "       [0, 1, 0, 0, 0, 1, 0, 0],\n",
              "       [0, 0, 0, 0, 0, 0, 0, 0],\n",
              "       [0, 0, 0, 0, 0, 0, 0, 0]])"
            ]
          },
          "metadata": {
            "tags": []
          },
          "execution_count": 23
        }
      ]
    },
    {
      "cell_type": "code",
      "metadata": {
        "id": "hPeTe3Q02rfJ",
        "colab_type": "code",
        "outputId": "203ec5e6-a9dd-4ffd-bea7-c7343059885f",
        "colab": {
          "base_uri": "https://localhost:8080/",
          "height": 105
        }
      },
      "source": [
        "a =  OR( birth , survi )  \n",
        "\n",
        "0+a"
      ],
      "execution_count": 25,
      "outputs": [
        {
          "output_type": "execute_result",
          "data": {
            "text/plain": [
              "array([[0, 0, 0, 0, 0, 0, 0, 0],\n",
              "       [1, 0, 1, 0, 0, 0, 0, 0],\n",
              "       [1, 1, 1, 0, 1, 1, 1, 0],\n",
              "       [1, 0, 1, 0, 0, 0, 0, 0],\n",
              "       [0, 0, 0, 0, 0, 0, 0, 0]])"
            ]
          },
          "metadata": {
            "tags": []
          },
          "execution_count": 25
        }
      ]
    },
    {
      "cell_type": "code",
      "metadata": {
        "id": "ydXRpXzVDQAP",
        "colab_type": "code",
        "colab": {}
      },
      "source": [
        "# nonblinker and blinker"
      ],
      "execution_count": 0,
      "outputs": []
    }
  ]
}