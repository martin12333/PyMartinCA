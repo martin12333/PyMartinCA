{
 "cells": [
  {
   "cell_type": "code",
   "execution_count": 2,
   "metadata": {
    "colab": {},
    "colab_type": "code",
    "id": "qdTqtX4Y1ubL"
   },
   "outputs": [],
   "source": [
    "import numpy as np\n",
    "\n",
    "#parameters are described at PARAMETERS.txt at the END of this ipynb\n",
    "# CGOL\n",
    "r=1; bmin=3; bmax=3; smin=3; smax=4\n"
   ]
  },
  {
   "cell_type": "markdown",
   "metadata": {
    "colab_type": "text",
    "id": "HOFqc3KuNgK5"
   },
   "source": []
  },
  {
   "cell_type": "code",
   "execution_count": 0,
   "metadata": {
    "colab": {
     "base_uri": "https://localhost:8080/",
     "height": 70
    },
    "colab_type": "code",
    "id": "vF_0N4OR2TUr",
    "outputId": "99f14297-954c-4a6e-b819-f9a23f981881"
   },
   "outputs": [
    {
     "data": {
      "text/plain": [
       "array([[1, 1, 1],\n",
       "       [1, 1, 1],\n",
       "       [1, 1, 1]])"
      ]
     },
     "execution_count": 2,
     "metadata": {
      "tags": []
     },
     "output_type": "execute_result"
    }
   ],
   "source": [
    "import scipy.ndimage \n",
    "\n",
    "\n",
    "kernel = [[1, 1, 1],[ 1 ,1, 1],[ 1, 1, 1]]  # define neighbors\n",
    "\n",
    "kr=np.array(kernel)\n",
    "\n",
    "kr"
   ]
  },
  {
   "cell_type": "code",
   "execution_count": 5,
   "metadata": {},
   "outputs": [
    {
     "data": {
      "text/plain": [
       "array([[1, 1, 1],\n",
       "       [1, 1, 1],\n",
       "       [1, 1, 1]], dtype=uint8)"
      ]
     },
     "execution_count": 5,
     "metadata": {},
     "output_type": "execute_result"
    }
   ],
   "source": [
    "diam=3\n",
    "kr=np.ones((diam,diam), dtype=np.uint8)\n",
    "kr"
   ]
  },
  {
   "cell_type": "code",
   "execution_count": 6,
   "metadata": {
    "colab": {
     "base_uri": "https://localhost:8080/",
     "height": 105
    },
    "colab_type": "code",
    "id": "HglT1JZ12YDI",
    "outputId": "f9ad4563-efa0-4bfb-ffe4-619af2521c8e"
   },
   "outputs": [],
   "source": [
    "OR = np.logical_or\n",
    "AND = np.logical_and\n",
    "\n",
    "\n",
    "world=[\n",
    "[0,0,0,0],\n",
    "[0,1,0,0],\n",
    "[0,1,0,0],\n",
    "[0,1,0,0],\n",
    "[0,0,0,0],\n",
    "] # a blinker\n",
    "\n",
    "a=np.array(world, dtype=np.uint8)\n"
   ]
  },
  {
   "cell_type": "code",
   "execution_count": 7,
   "metadata": {},
   "outputs": [
    {
     "data": {
      "text/plain": [
       "array([0, 0, 0, 0, 0, 1, 1, 1, 1, 2, 2, 2, 2, 3, 3, 3, 3, 3, 3, 3],\n",
       "      dtype=uint64)"
      ]
     },
     "execution_count": 7,
     "metadata": {},
     "output_type": "execute_result"
    }
   ],
   "source": [
    "cs1=np.cumsum(a)\n",
    "cs1"
   ]
  },
  {
   "cell_type": "code",
   "execution_count": 0,
   "metadata": {
    "colab": {
     "base_uri": "https://localhost:8080/",
     "height": 105
    },
    "colab_type": "code",
    "id": "HglT1JZ12YDI",
    "outputId": "f9ad4563-efa0-4bfb-ffe4-619af2521c8e"
   },
   "outputs": [
    {
     "data": {
      "text/plain": [
       "array([[1, 1, 1, 0],\n",
       "       [2, 2, 2, 0],\n",
       "       [3, 3, 3, 0],\n",
       "       [2, 2, 2, 0],\n",
       "       [1, 1, 1, 0]])"
      ]
     },
     "execution_count": 3,
     "metadata": {
      "tags": []
     },
     "output_type": "execute_result"
    }
   ],
   "source": [
    "\n",
    "n=scipy.ndimage.convolve(a,kr)\n",
    "\n",
    "n"
   ]
  },
  {
   "cell_type": "code",
   "execution_count": 0,
   "metadata": {
    "colab": {
     "base_uri": "https://localhost:8080/",
     "height": 105
    },
    "colab_type": "code",
    "id": "-eQHf9XF2jzO",
    "outputId": "7f2d4539-2073-43d7-86f6-e997e07593b8"
   },
   "outputs": [
    {
     "data": {
      "text/plain": [
       "array([[False, False, False, False],\n",
       "       [False, False, False, False],\n",
       "       [ True, False,  True, False],\n",
       "       [False, False, False, False],\n",
       "       [False, False, False, False]])"
      ]
     },
     "execution_count": 4,
     "metadata": {
      "tags": []
     },
     "output_type": "execute_result"
    }
   ],
   "source": [
    "birth = AND(  n>=bmin,  AND( n<=bmax, np.logical_not(a) )  )\n",
    "\n",
    "birth"
   ]
  },
  {
   "cell_type": "code",
   "execution_count": 0,
   "metadata": {
    "colab": {
     "base_uri": "https://localhost:8080/",
     "height": 105
    },
    "colab_type": "code",
    "id": "t-sxNjue2n3y",
    "outputId": "180e3b4c-bf2e-4cd0-9bbb-39c3fe74cb9e"
   },
   "outputs": [
    {
     "data": {
      "text/plain": [
       "array([[False, False, False, False],\n",
       "       [False, False, False, False],\n",
       "       [False,  True, False, False],\n",
       "       [False, False, False, False],\n",
       "       [False, False, False, False]])"
      ]
     },
     "execution_count": 5,
     "metadata": {
      "tags": []
     },
     "output_type": "execute_result"
    }
   ],
   "source": [
    "survi = AND(  n>=smin,  AND( n<=smax, a )  )\n",
    "\n",
    "survi"
   ]
  },
  {
   "cell_type": "code",
   "execution_count": 0,
   "metadata": {
    "colab": {
     "base_uri": "https://localhost:8080/",
     "height": 105
    },
    "colab_type": "code",
    "id": "hPeTe3Q02rfJ",
    "outputId": "6fc95865-8c03-4f4c-ca7c-35f2351a8ccf"
   },
   "outputs": [
    {
     "data": {
      "text/plain": [
       "array([[False, False, False, False],\n",
       "       [False, False, False, False],\n",
       "       [ True,  True,  True, False],\n",
       "       [False, False, False, False],\n",
       "       [False, False, False, False]])"
      ]
     },
     "execution_count": 6,
     "metadata": {
      "tags": []
     },
     "output_type": "execute_result"
    }
   ],
   "source": [
    "a =  OR( birth , survi )  \n",
    "\n",
    "a"
   ]
  },
  {
   "cell_type": "markdown",
   "metadata": {
    "colab_type": "text",
    "id": "0k2ZAdVFNosI"
   },
   "source": [
    "# # PARAMETERS.txt\n",
    "# \n",
    "# in most scripts in PyMartinCA\n",
    "# \n",
    "# bmin is constant\n",
    "# \n",
    "# bmax varies from xlo to xhi\n",
    "# \n",
    "# smin is constant\n",
    "# \n",
    "# smax varies from ylo to yhi\n",
    "# \n",
    "# \n",
    "# #bfade, q, qqq are purely visual ... not related to Cc of Golly\n",
    "# \n",
    "# \n",
    "# \n",
    "# #=============================\n",
    "# #a standard rule notation\n",
    "# \n",
    "# #https://www.conwaylife.com/wiki/Larger_than_Life\n",
    "# \n",
    "# #Rr,Cc,M1,Ssmin..smax,Bbmin..bmax,Nn\n",
    "# \n",
    "# #Rr specifies the range (r is from 1 to 500 in Golly and LifeViewer; 1 to 10 in MCell).\n",
    "# \n",
    "# diam = 2*r + 1\n",
    "# \n",
    "# #Cc specifies the number of states (c is from 0 to 255 in Golly, LifeViewer and MCell[note 1])\n",
    "# \n",
    "# #Mm specifies if the middle cell is included in the neighborhood count (m is 0 or 1).\n",
    "# \n",
    "# PyMartinCA uses M1 or weighted\n",
    "# M1 internally even for HROT \n",
    "# \n",
    "# #Ssmin..smax specifies the count limits for a state 1 cell to survive.\n",
    "# \n",
    "# #Bbmin..bmax specifies the count limits for a dead cell to become a birth.\n",
    "# \n",
    "# #Nn specifies the extended neighborhood type (n is M for Moore or N for von Neumann. Golly and LifeViewer also support C for Circular neighborhood)\n",
    "# \n",
    "# PyMartinCA uses NM or weighted\n",
    "# \n",
    "\n"
   ]
  },
  {
   "cell_type": "markdown",
   "metadata": {
    "colab_type": "text",
    "id": "r0oEkje1NiSE"
   },
   "source": [
    "\n",
    "# ###===================\n",
    "# #PyMartinCA scripts originally evolved from\n",
    "# #http://nbviewer.ipython.org/github/martin12333/teaching-simso/blob/master/52-largerthanlife.ipynb\n",
    "# #https://github.com/thearn/game-of-life/blob/master/conway.py\n",
    "#"
   ]
  }
 ],
 "metadata": {
  "colab": {
   "name": "demo-1-CA-in-SciPy.ipynb",
   "provenance": []
  },
  "kernelspec": {
   "display_name": "Python 3",
   "language": "python",
   "name": "python3"
  },
  "language_info": {
   "codemirror_mode": {
    "name": "ipython",
    "version": 3
   },
   "file_extension": ".py",
   "mimetype": "text/x-python",
   "name": "python",
   "nbconvert_exporter": "python",
   "pygments_lexer": "ipython3",
   "version": "3.6.9"
  }
 },
 "nbformat": 4,
 "nbformat_minor": 1
}
